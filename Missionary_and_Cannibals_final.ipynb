{
  "cells": [
    {
      "cell_type": "markdown",
      "metadata": {
        "id": "view-in-github",
        "colab_type": "text"
      },
      "source": [
        "<a href=\"https://colab.research.google.com/github/Pawarsnehal16/Missionaries-and-Cannibals-/blob/main/Missionary_and_Cannibals_final.ipynb\" target=\"_parent\"><img src=\"https://colab.research.google.com/assets/colab-badge.svg\" alt=\"Open In Colab\"/></a>"
      ]
    },
    {
      "cell_type": "code",
      "execution_count": null,
      "metadata": {
        "colab": {
          "background_save": true,
          "base_uri": "https://localhost:8080/"
        },
        "id": "1Qj6T2RKJdAH",
        "outputId": "37675e27-7dca-4417-8983-1df4672caa21"
      },
      "outputs": [
        {
          "name": "stdout",
          "output_type": "stream",
          "text": [
            " | 🌊🌊🌊🌊🚢 | 💂💂💂👹👹👹\n",
            "Boat is on the right side\n"
          ]
        }
      ],
      "source": [
        "from IPython.display import clear_output\n",
        "boat_side = 'right'\n",
        "missionaries_on_right=3\n",
        "cannibals_on_right=3\n",
        "missionaries_on_left=0\n",
        "cannibals_on_left=0\n",
        "\n",
        "print('\\U0001f482'*(missionaries_on_left)+ '\\U0001f479'*(cannibals_on_left)+ ' | '+'\\U0001f30a'*4 +'\\U0001f6A2'+ ' | ' +'\\U0001f482'*(missionaries_on_right)+'\\U0001f479'*(cannibals_on_right))\n",
        "\n",
        "while True:\n",
        "  #clear_output(wait = True)\n",
        "  print(f'Boat is on the {boat_side} side')\n",
        "  m=int(input('missionaries '))\n",
        "  c=int(input('cannibals '))\n",
        "\n",
        "  if (m+c<=2) and (m+c>0) :\n",
        "    print(f'Trying to move {m} missionaries and {c} cannibals.')\n",
        "  else:\n",
        "    print('Invalid move : You can only move 1 or 2 people.')\n",
        "  if boat_side=='right':\n",
        "      #print('right')\n",
        "      if m>missionaries_on_right or c>cannibals_on_right:\n",
        "        print('Invalid move : Not enough people on the right side.')\n",
        "        continue\n",
        "\n",
        "      boat_side='left'\n",
        "      missionaries_on_right=missionaries_on_right-m\n",
        "      cannibals_on_right=cannibals_on_right-c\n",
        "      missionaries_on_left=missionaries_on_left+m\n",
        "      cannibals_on_left=cannibals_on_left+c\n",
        "\n",
        "      print('\\U0001f482'*(missionaries_on_left)+ '\\U0001f479'*(cannibals_on_left)+ ' | ' +'\\U0001f6A2'+'\\U0001f30a'*4 + ' | ' +'\\U0001f482'*(missionaries_on_right)+'\\U0001f479'*(cannibals_on_right))\n",
        "\n",
        "  elif boat_side=='left':\n",
        "    #print('left')\n",
        "\n",
        "    if m>missionaries_on_left or c>cannibals_on_left :\n",
        "      print('Invalid move : Not enough people on the left side.')\n",
        "      continue\n",
        "\n",
        "    boat_side='right'\n",
        "    missionaries_on_right=missionaries_on_right+m\n",
        "    cannibals_on_right=cannibals_on_right+c\n",
        "    missionaries_on_left=missionaries_on_left-m\n",
        "    cannibals_on_left=cannibals_on_left-c\n",
        "\n",
        "    print('\\U0001f482'*(missionaries_on_left)+ '\\U0001f479'*(cannibals_on_left)+ ' | '+'\\U0001f30a'*4 +'\\U0001f6A2'+ ' | ' +'\\U0001f482'*(missionaries_on_right)+'\\U0001f479'*(cannibals_on_right))\n",
        "\n",
        "  if (missionaries_on_right < cannibals_on_right) and (missionaries_on_right>0):\n",
        "    print('YOU LOSE : Missionaries eaten on the right side.')\n",
        "    break\n",
        "  if (missionaries_on_left<cannibals_on_left) and (missionaries_on_left>0):\n",
        "    print('YOU LOSE : Missionaries eaten on the left side.')\n",
        "    break\n",
        "  if (missionaries_on_left==3) and (cannibals_on_left==3):\n",
        "    print('YOU WIN')\n",
        "    break"
      ]
    },
    {
      "cell_type": "code",
      "execution_count": null,
      "metadata": {
        "id": "2iyIN4JlLHnj"
      },
      "outputs": [],
      "source": []
    }
  ],
  "metadata": {
    "colab": {
      "provenance": [],
      "authorship_tag": "ABX9TyPOeCOZWjqjihiwg1iM3c/m",
      "include_colab_link": true
    },
    "kernelspec": {
      "display_name": "Python 3",
      "name": "python3"
    },
    "language_info": {
      "name": "python"
    }
  },
  "nbformat": 4,
  "nbformat_minor": 0
}